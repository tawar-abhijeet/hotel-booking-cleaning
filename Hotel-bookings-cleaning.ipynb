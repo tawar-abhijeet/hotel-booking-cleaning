{
 "cells": [
  {
   "cell_type": "code",
   "id": "initial_id",
   "metadata": {
    "collapsed": true,
    "ExecuteTime": {
     "end_time": "2025-09-03T13:33:42.064319Z",
     "start_time": "2025-09-03T13:33:41.552342Z"
    }
   },
   "source": "import pandas as pd",
   "outputs": [],
   "execution_count": 2
  },
  {
   "metadata": {
    "ExecuteTime": {
     "end_time": "2025-09-03T13:33:47.010872Z",
     "start_time": "2025-09-03T13:33:46.815957Z"
    }
   },
   "cell_type": "code",
   "source": [
    "print(\"--- Starting Data Cleaning Process ---\")\n",
    "df = pd.read_csv('hotel_bookings.csv')"
   ],
   "id": "cffe23846e454c8b",
   "outputs": [
    {
     "name": "stdout",
     "output_type": "stream",
     "text": [
      "--- Starting Data Cleaning Process ---\n"
     ]
    }
   ],
   "execution_count": 3
  },
  {
   "metadata": {
    "ExecuteTime": {
     "end_time": "2025-09-03T13:33:48.245514Z",
     "start_time": "2025-09-03T13:33:47.920556Z"
    }
   },
   "cell_type": "code",
   "source": [
    "print(\"--- Initial Data State ---\")\n",
    "print(f\"Shape (Rows, Columns): {df.shape}\")\n",
    "print(\"\\nMissing Values per Column:\")\n",
    "print(df.isnull().sum())\n",
    "print(f\"\\nNumber of Duplicate Rows: {df.duplicated().sum()}\")\n",
    "df.info()\n",
    "# --- Numerical Data Summary (to find outliers) ---\n",
    "print(\"\\nSummary Statistics for Numerical Columns:\")\n",
    "print(df.describe())\n",
    "\n",
    "\n",
    "# Store initial stats for final comparison\n",
    "initial_rows = df.shape[0]\n",
    "initial_cols = df.shape[1]"
   ],
   "id": "672c287f983209ba",
   "outputs": [
    {
     "name": "stdout",
     "output_type": "stream",
     "text": [
      "--- Initial Data State ---\n",
      "Shape (Rows, Columns): (119390, 32)\n",
      "\n",
      "Missing Values per Column:\n",
      "hotel                                  0\n",
      "is_canceled                            0\n",
      "lead_time                              0\n",
      "arrival_date_year                      0\n",
      "arrival_date_month                     0\n",
      "arrival_date_week_number               0\n",
      "arrival_date_day_of_month              0\n",
      "stays_in_weekend_nights                0\n",
      "stays_in_week_nights                   0\n",
      "adults                                 0\n",
      "children                               4\n",
      "babies                                 0\n",
      "meal                                   0\n",
      "country                              488\n",
      "market_segment                         0\n",
      "distribution_channel                   0\n",
      "is_repeated_guest                      0\n",
      "previous_cancellations                 0\n",
      "previous_bookings_not_canceled         0\n",
      "reserved_room_type                     0\n",
      "assigned_room_type                     0\n",
      "booking_changes                        0\n",
      "deposit_type                           0\n",
      "agent                              16340\n",
      "company                           112593\n",
      "days_in_waiting_list                   0\n",
      "customer_type                          0\n",
      "adr                                    0\n",
      "required_car_parking_spaces            0\n",
      "total_of_special_requests              0\n",
      "reservation_status                     0\n",
      "reservation_status_date                0\n",
      "dtype: int64\n",
      "\n",
      "Number of Duplicate Rows: 31994\n",
      "<class 'pandas.core.frame.DataFrame'>\n",
      "RangeIndex: 119390 entries, 0 to 119389\n",
      "Data columns (total 32 columns):\n",
      " #   Column                          Non-Null Count   Dtype  \n",
      "---  ------                          --------------   -----  \n",
      " 0   hotel                           119390 non-null  object \n",
      " 1   is_canceled                     119390 non-null  int64  \n",
      " 2   lead_time                       119390 non-null  int64  \n",
      " 3   arrival_date_year               119390 non-null  int64  \n",
      " 4   arrival_date_month              119390 non-null  object \n",
      " 5   arrival_date_week_number        119390 non-null  int64  \n",
      " 6   arrival_date_day_of_month       119390 non-null  int64  \n",
      " 7   stays_in_weekend_nights         119390 non-null  int64  \n",
      " 8   stays_in_week_nights            119390 non-null  int64  \n",
      " 9   adults                          119390 non-null  int64  \n",
      " 10  children                        119386 non-null  float64\n",
      " 11  babies                          119390 non-null  int64  \n",
      " 12  meal                            119390 non-null  object \n",
      " 13  country                         118902 non-null  object \n",
      " 14  market_segment                  119390 non-null  object \n",
      " 15  distribution_channel            119390 non-null  object \n",
      " 16  is_repeated_guest               119390 non-null  int64  \n",
      " 17  previous_cancellations          119390 non-null  int64  \n",
      " 18  previous_bookings_not_canceled  119390 non-null  int64  \n",
      " 19  reserved_room_type              119390 non-null  object \n",
      " 20  assigned_room_type              119390 non-null  object \n",
      " 21  booking_changes                 119390 non-null  int64  \n",
      " 22  deposit_type                    119390 non-null  object \n",
      " 23  agent                           103050 non-null  float64\n",
      " 24  company                         6797 non-null    float64\n",
      " 25  days_in_waiting_list            119390 non-null  int64  \n",
      " 26  customer_type                   119390 non-null  object \n",
      " 27  adr                             119390 non-null  float64\n",
      " 28  required_car_parking_spaces     119390 non-null  int64  \n",
      " 29  total_of_special_requests       119390 non-null  int64  \n",
      " 30  reservation_status              119390 non-null  object \n",
      " 31  reservation_status_date         119390 non-null  object \n",
      "dtypes: float64(4), int64(16), object(12)\n",
      "memory usage: 29.1+ MB\n",
      "\n",
      "Summary Statistics for Numerical Columns:\n",
      "         is_canceled      lead_time  arrival_date_year  \\\n",
      "count  119390.000000  119390.000000      119390.000000   \n",
      "mean        0.370416     104.011416        2016.156554   \n",
      "std         0.482918     106.863097           0.707476   \n",
      "min         0.000000       0.000000        2015.000000   \n",
      "25%         0.000000      18.000000        2016.000000   \n",
      "50%         0.000000      69.000000        2016.000000   \n",
      "75%         1.000000     160.000000        2017.000000   \n",
      "max         1.000000     737.000000        2017.000000   \n",
      "\n",
      "       arrival_date_week_number  arrival_date_day_of_month  \\\n",
      "count             119390.000000              119390.000000   \n",
      "mean                  27.165173                  15.798241   \n",
      "std                   13.605138                   8.780829   \n",
      "min                    1.000000                   1.000000   \n",
      "25%                   16.000000                   8.000000   \n",
      "50%                   28.000000                  16.000000   \n",
      "75%                   38.000000                  23.000000   \n",
      "max                   53.000000                  31.000000   \n",
      "\n",
      "       stays_in_weekend_nights  stays_in_week_nights         adults  \\\n",
      "count            119390.000000         119390.000000  119390.000000   \n",
      "mean                  0.927599              2.500302       1.856403   \n",
      "std                   0.998613              1.908286       0.579261   \n",
      "min                   0.000000              0.000000       0.000000   \n",
      "25%                   0.000000              1.000000       2.000000   \n",
      "50%                   1.000000              2.000000       2.000000   \n",
      "75%                   2.000000              3.000000       2.000000   \n",
      "max                  19.000000             50.000000      55.000000   \n",
      "\n",
      "            children         babies  is_repeated_guest  \\\n",
      "count  119386.000000  119390.000000      119390.000000   \n",
      "mean        0.103890       0.007949           0.031912   \n",
      "std         0.398561       0.097436           0.175767   \n",
      "min         0.000000       0.000000           0.000000   \n",
      "25%         0.000000       0.000000           0.000000   \n",
      "50%         0.000000       0.000000           0.000000   \n",
      "75%         0.000000       0.000000           0.000000   \n",
      "max        10.000000      10.000000           1.000000   \n",
      "\n",
      "       previous_cancellations  previous_bookings_not_canceled  \\\n",
      "count           119390.000000                   119390.000000   \n",
      "mean                 0.087118                        0.137097   \n",
      "std                  0.844336                        1.497437   \n",
      "min                  0.000000                        0.000000   \n",
      "25%                  0.000000                        0.000000   \n",
      "50%                  0.000000                        0.000000   \n",
      "75%                  0.000000                        0.000000   \n",
      "max                 26.000000                       72.000000   \n",
      "\n",
      "       booking_changes          agent      company  days_in_waiting_list  \\\n",
      "count    119390.000000  103050.000000  6797.000000         119390.000000   \n",
      "mean          0.221124      86.693382   189.266735              2.321149   \n",
      "std           0.652306     110.774548   131.655015             17.594721   \n",
      "min           0.000000       1.000000     6.000000              0.000000   \n",
      "25%           0.000000       9.000000    62.000000              0.000000   \n",
      "50%           0.000000      14.000000   179.000000              0.000000   \n",
      "75%           0.000000     229.000000   270.000000              0.000000   \n",
      "max          21.000000     535.000000   543.000000            391.000000   \n",
      "\n",
      "                 adr  required_car_parking_spaces  total_of_special_requests  \n",
      "count  119390.000000                119390.000000              119390.000000  \n",
      "mean      101.831122                     0.062518                   0.571363  \n",
      "std        50.535790                     0.245291                   0.792798  \n",
      "min        -6.380000                     0.000000                   0.000000  \n",
      "25%        69.290000                     0.000000                   0.000000  \n",
      "50%        94.575000                     0.000000                   0.000000  \n",
      "75%       126.000000                     0.000000                   1.000000  \n",
      "max      5400.000000                     8.000000                   5.000000  \n"
     ]
    }
   ],
   "execution_count": 4
  },
  {
   "metadata": {},
   "cell_type": "markdown",
   "source": [
    "Key Data Quality Issues Found:\n",
    "\n",
    "Missing Values:\n",
    "\n",
    "company: Over 94% of values are missing. This likely indicates direct bookings, not missing data.\n",
    "\n",
    "agent: Nearly 14% of values are missing, also likely indicating direct bookings.\n",
    "\n",
    "country: A small number of rows (488) are missing the country code.\n",
    "\n",
    "children: Four rows have missing values for the number of children.\n",
    "\n",
    "Duplicate Data:\n",
    "\n",
    "There are 31,994 complete duplicate rows in the dataset, which can significantly skew any analysis.\n",
    "\n",
    "Incorrect Data Types:\n",
    "\n",
    "children, agent, and company are stored as float types but should be integer types.\n",
    "\n",
    "The reservation_status_date column is stored as a generic object (string) instead of a datetime object.\n",
    "\n",
    "Structural Issues:\n",
    "\n",
    "The arrival date is split across three separate columns (arrival_date_year, arrival_date_month, arrival_date_day_of_month), making date-based calculations difficult.\n",
    "\n",
    "Invalid or Illogical Values:\n",
    "\n",
    "There are bookings with a total of zero guests (adults, children, and babies are all 0).\n",
    "\n",
    "At least one booking has a negative Average Daily Rate (ADR), which is impossible."
   ],
   "id": "23fdfd2699da2a9a"
  },
  {
   "metadata": {
    "ExecuteTime": {
     "end_time": "2025-09-03T13:51:23.122959Z",
     "start_time": "2025-09-03T13:51:23.073156Z"
    }
   },
   "cell_type": "code",
   "source": [
    "print(\"--- Handling Missing Values ---\")\n",
    "\n",
    "df['company'] = df['company'].fillna(0)\n",
    "df['agent'] = df['agent'].fillna(0)\n",
    "df['children'] = df['children'].fillna(0)\n",
    "\n",
    "# Drop rows where 'country' is missing\n",
    "df.dropna(subset=['country'], inplace=True)\n",
    "\n",
    "# --- AFTER ---\n",
    "print(f\"Shape After: {df.shape}\")\n",
    "print(\"\\nMissing Values After Handling (showing key columns):\")\n",
    "print(df[['country', 'agent', 'company', 'children']].isnull().sum())"
   ],
   "id": "2e4d1eb783f2b737",
   "outputs": [
    {
     "name": "stdout",
     "output_type": "stream",
     "text": [
      "--- Handling Missing Values ---\n",
      "Shape After: (118902, 32)\n",
      "\n",
      "Missing Values After Handling (showing key columns):\n",
      "country     0\n",
      "agent       0\n",
      "company     0\n",
      "children    0\n",
      "dtype: int64\n"
     ]
    }
   ],
   "execution_count": 8
  },
  {
   "metadata": {
    "ExecuteTime": {
     "end_time": "2025-09-03T13:53:44.338418Z",
     "start_time": "2025-09-03T13:53:44.049070Z"
    }
   },
   "cell_type": "code",
   "source": [
    "print(\"--- Removing Duplicates ---\")\n",
    "print(f\"Shape Before: {df.shape}\")\n",
    "print(f\"Number of Duplicates: {df.duplicated().sum()}\")\n",
    "\n",
    "# Remove duplicate rows\n",
    "df.drop_duplicates(inplace=True)\n",
    "\n",
    "# --- AFTER ---\n",
    "print(f\"Shape After: {df.shape}\")\n",
    "print(f\"Number of Duplicates After: {df.duplicated().sum()}\")"
   ],
   "id": "c2660b0e72843476",
   "outputs": [
    {
     "name": "stdout",
     "output_type": "stream",
     "text": [
      "--- Removing Duplicates ---\n",
      "Shape Before: (118902, 32)\n",
      "Number of Duplicates: 31958\n",
      "Shape After: (86944, 32)\n",
      "Number of Duplicates After: 0\n"
     ]
    }
   ],
   "execution_count": 9
  },
  {
   "metadata": {
    "ExecuteTime": {
     "end_time": "2025-09-03T13:54:50.333060Z",
     "start_time": "2025-09-03T13:54:50.294387Z"
    }
   },
   "cell_type": "code",
   "source": [
    "print(\"--- Correcting Data Types ---\")\n",
    "print(\"Data Types Before:\")\n",
    "print(df[['children', 'agent', 'company']].dtypes)\n",
    "\n",
    "# Convert columns to integer\n",
    "df[['children', 'agent', 'company']] = df[['children', 'agent', 'company']].astype(int)\n",
    "# Convert reservation_status_date to datetime\n",
    "df['reservation_status_date'] = pd.to_datetime(df['reservation_status_date'])\n",
    "\n",
    "print(\"\\nData Types After:\")\n",
    "print(df[['children', 'agent', 'company']].dtypes)"
   ],
   "id": "55b7cdedc4b75ac9",
   "outputs": [
    {
     "name": "stdout",
     "output_type": "stream",
     "text": [
      "--- Correcting Data Types ---\n",
      "Data Types Before:\n",
      "children    float64\n",
      "agent       float64\n",
      "company     float64\n",
      "dtype: object\n",
      "\n",
      "Data Types After:\n",
      "children    int64\n",
      "agent       int64\n",
      "company     int64\n",
      "dtype: object\n"
     ]
    }
   ],
   "execution_count": 10
  },
  {
   "metadata": {
    "ExecuteTime": {
     "end_time": "2025-09-03T13:57:15.529132Z",
     "start_time": "2025-09-03T13:57:15.436696Z"
    }
   },
   "cell_type": "code",
   "source": [
    "print(\"--- Creating Unified Date Column ---\")\n",
    "print(\"Columns Before:\", [col for col in df.columns if 'date' in col])\n",
    "\n",
    "# Create the unified 'arrival_date' column\n",
    "df['arrival_date'] = pd.to_datetime(\n",
    "    df['arrival_date_year'].astype(str) + '-' +\n",
    "    df['arrival_date_month'].astype(str) + '-' +\n",
    "    df['arrival_date_day_of_month'].astype(str),\n",
    "    errors='coerce' # Handle potential conversion errors gracefully\n",
    ")\n",
    "\n",
    "# Drop the original date component columns\n",
    "df.drop(['arrival_date_year', 'arrival_date_month', 'arrival_date_day_of_month'], axis=1, inplace=True)\n",
    "\n",
    "print(\"Columns After:\", [col for col in df.columns if 'date' in col])"
   ],
   "id": "15caf1534ba7a9dd",
   "outputs": [
    {
     "name": "stdout",
     "output_type": "stream",
     "text": [
      "--- Creating Unified Date Column ---\n",
      "Columns Before: ['arrival_date_year', 'arrival_date_month', 'arrival_date_week_number', 'arrival_date_day_of_month', 'reservation_status_date']\n",
      "Columns After: ['arrival_date_week_number', 'reservation_status_date', 'arrival_date']\n"
     ]
    }
   ],
   "execution_count": 11
  },
  {
   "metadata": {
    "ExecuteTime": {
     "end_time": "2025-09-03T13:59:37.568152Z",
     "start_time": "2025-09-03T13:59:37.526444Z"
    }
   },
   "cell_type": "code",
   "source": [
    "print(\"--- Removing Invalid Data ---\")\n",
    "print(f\"Shape Before: {df.shape}\")\n",
    "\n",
    "# Filter out bookings with zero guests\n",
    "df = df[~((df['adults'] == 0) & (df['children'] == 0) & (df['babies'] == 0))]\n",
    "\n",
    "# Filter out bookings with a negative ADR\n",
    "df = df[df['adr'] >= 0]\n",
    "\n",
    "# --- AFTER ---\n",
    "print(f\"Shape After: {df.shape}\")"
   ],
   "id": "406c6926fe6aba6c",
   "outputs": [
    {
     "name": "stdout",
     "output_type": "stream",
     "text": [
      "--- Removing Invalid Data ---\n",
      "Shape Before: (86944, 30)\n",
      "Shape After: (86782, 30)\n"
     ]
    }
   ],
   "execution_count": 12
  },
  {
   "metadata": {
    "ExecuteTime": {
     "end_time": "2025-09-03T14:01:12.684634Z",
     "start_time": "2025-09-03T14:01:12.677508Z"
    }
   },
   "cell_type": "code",
   "source": [
    "# Feature Engineering\n",
    "df['total_guests'] = df['adults'] + df['children'] + df['babies']\n",
    "df['total_nights'] = df['stays_in_weekend_nights'] + df['stays_in_week_nights']\n",
    "\n",
    "# Reset the DataFrame index\n",
    "df.reset_index(drop=True, inplace=True)"
   ],
   "id": "37957b2e0dbe691f",
   "outputs": [],
   "execution_count": 13
  },
  {
   "metadata": {
    "ExecuteTime": {
     "end_time": "2025-09-03T14:11:55.098059Z",
     "start_time": "2025-09-03T14:11:55.092758Z"
    }
   },
   "cell_type": "code",
   "source": [
    "# --- FINAL SUMMARY ---\n",
    "\n",
    "print(\"--- Final Cleaning Summary ---\")\n",
    "\n",
    "print(f\"Initial Shape: ({initial_rows}, {initial_cols})\")\n",
    "\n",
    "print(f\"Final Shape: ({df.shape[0]}, {df.shape[1]})\")\n",
    "\n",
    "rows_removed = initial_rows - df.shape[0]\n",
    "\n",
    "print(f\"Total Rows Removed: {rows_removed} ({rows_removed / initial_rows:.2%})\")"
   ],
   "id": "c29e8f9e2c4c84d4",
   "outputs": [
    {
     "name": "stdout",
     "output_type": "stream",
     "text": [
      "--- Final Cleaning Summary ---\n",
      "Initial Shape: (119390, 32)\n",
      "Final Shape: (86782, 32)\n",
      "Total Rows Removed: 32608 (27.31%)\n"
     ]
    }
   ],
   "execution_count": 14
  },
  {
   "metadata": {
    "ExecuteTime": {
     "end_time": "2025-09-03T14:12:56.428115Z",
     "start_time": "2025-09-03T14:12:55.854409Z"
    }
   },
   "cell_type": "code",
   "source": [
    "# Export the cleaned DataFrame\n",
    "\n",
    "df.to_csv(\"hotel_bookings_cleaned.csv\", index=False)\n",
    "\n",
    "\n",
    "\n",
    "print(\"\\nCleaned data exported successfully.\")\n",
    "\n",
    "print(\"\\n---Data Cleaning Complete ---\")"
   ],
   "id": "2ac8735342292f6c",
   "outputs": [
    {
     "name": "stdout",
     "output_type": "stream",
     "text": [
      "\n",
      "Cleaned data exported successfully.\n",
      "\n",
      "---Data Cleaning Complete ---\n"
     ]
    }
   ],
   "execution_count": 15
  },
  {
   "metadata": {},
   "cell_type": "code",
   "outputs": [],
   "execution_count": null,
   "source": "",
   "id": "d1d78b39b652aa4b"
  }
 ],
 "metadata": {
  "kernelspec": {
   "display_name": "Python 3",
   "language": "python",
   "name": "python3"
  },
  "language_info": {
   "codemirror_mode": {
    "name": "ipython",
    "version": 2
   },
   "file_extension": ".py",
   "mimetype": "text/x-python",
   "name": "python",
   "nbconvert_exporter": "python",
   "pygments_lexer": "ipython2",
   "version": "2.7.6"
  }
 },
 "nbformat": 4,
 "nbformat_minor": 5
}
